{
 "cells": [
  {
   "cell_type": "markdown",
   "metadata": {},
   "source": [
    "# Examining Racial Discrimination in the US Job Market\n",
    "\n",
    "### Background\n",
    "Racial discrimination continues to be pervasive in cultures throughout the world. Researchers examined the level of racial discrimination in the United States labor market by randomly assigning identical résumés to black-sounding or white-sounding names and observing the impact on requests for interviews from employers.\n",
    "\n",
    "### Data\n",
    "In the dataset provided, each row represents a resume. The 'race' column has two values, 'b' and 'w', indicating black-sounding and white-sounding. The column 'call' has two values, 1 and 0, indicating whether the resume received a call from employers or not.\n",
    "\n",
    "Note that the 'b' and 'w' values in race are assigned randomly to the resumes when presented to the employer."
   ]
  },
  {
   "cell_type": "markdown",
   "metadata": {},
   "source": [
    "### Exercises\n",
    "You will perform a statistical analysis to establish whether race has a significant impact on the rate of callbacks for resumes.\n",
    "\n",
    "Answer the following questions **in this notebook below and submit to your Github account**. \n",
    "\n",
    "   1. What test is appropriate for this problem? Does CLT apply?\n",
    "   2. What are the null and alternate hypotheses?\n",
    "   -The null hypothesis is that there is no difference in interview offers for people with white names vs. people with black names. \n",
    "   -The alternate hypothesis is that people with black sounding names are less likely to receive call backs. \n",
    "   3. Compute margin of error, confidence interval, and p-value. Try using both the bootstrapping and the frequentist statistical approaches.\n",
    "   margin of error = 1.6 x std (for proportion)\n",
    "   phat\n",
    "   4. Write a story describing the statistical significance in the context or the original problem.\n",
    "   5. Does your analysis mean that race/name is the most important factor in callback success? Why or why not? If not, how would you amend your analysis?\n",
    "\n",
    "You can include written notes in notebook cells using Markdown: \n",
    "   - In the control panel at the top, choose Cell > Cell Type > Markdown\n",
    "   - Markdown syntax: http://nestacms.com/docs/creating-content/markdown-cheat-sheet\n",
    "\n",
    "#### Resources\n",
    "+ Experiment information and data source: http://www.povertyactionlab.org/evaluation/discrimination-job-market-united-states\n",
    "+ Scipy statistical methods: http://docs.scipy.org/doc/scipy/reference/stats.html \n",
    "+ Markdown syntax: http://nestacms.com/docs/creating-content/markdown-cheat-sheet\n",
    "+ Formulas for the Bernoulli distribution: https://en.wikipedia.org/wiki/Bernoulli_distribution"
   ]
  },
  {
   "cell_type": "code",
   "execution_count": 2,
   "metadata": {},
   "outputs": [],
   "source": [
    "\n",
    "import pandas as pd\n",
    "import numpy as np\n",
    "from scipy import stats"
   ]
  },
  {
   "cell_type": "code",
   "execution_count": 30,
   "metadata": {},
   "outputs": [
    {
     "name": "stdout",
     "output_type": "stream",
     "text": [
      "Index(['id', 'ad', 'education', 'ofjobs', 'yearsexp', 'honors', 'volunteer',\n",
      "       'military', 'empholes', 'occupspecific', 'occupbroad', 'workinschool',\n",
      "       'email', 'computerskills', 'specialskills', 'firstname', 'sex', 'race',\n",
      "       'h', 'l', 'call', 'city', 'kind', 'adid', 'fracblack', 'fracwhite',\n",
      "       'lmedhhinc', 'fracdropout', 'fraccolp', 'linc', 'col', 'expminreq',\n",
      "       'schoolreq', 'eoe', 'parent_sales', 'parent_emp', 'branch_sales',\n",
      "       'branch_emp', 'fed', 'fracblack_empzip', 'fracwhite_empzip',\n",
      "       'lmedhhinc_empzip', 'fracdropout_empzip', 'fraccolp_empzip',\n",
      "       'linc_empzip', 'manager', 'supervisor', 'secretary', 'offsupport',\n",
      "       'salesrep', 'retailsales', 'req', 'expreq', 'comreq', 'educreq',\n",
      "       'compreq', 'orgreq', 'manuf', 'transcom', 'bankreal', 'trade',\n",
      "       'busservice', 'othservice', 'missind', 'ownership'],\n",
      "      dtype='object')\n",
      "4870\n",
      "count    2435.000000\n",
      "mean        3.620945\n",
      "std         0.696609\n",
      "min         0.000000\n",
      "25%         3.000000\n",
      "50%         4.000000\n",
      "75%         4.000000\n",
      "max         4.000000\n",
      "Name: education, dtype: float64\n",
      "count    2435.000000\n",
      "mean        3.616016\n",
      "std         0.733060\n",
      "min         0.000000\n",
      "25%         3.000000\n",
      "50%         4.000000\n",
      "75%         4.000000\n",
      "max         4.000000\n",
      "Name: education, dtype: float64\n",
      "count    2435.000000\n",
      "mean        0.408624\n",
      "std         0.491681\n",
      "min         0.000000\n",
      "25%         0.000000\n",
      "50%         0.000000\n",
      "75%         1.000000\n",
      "max         1.000000\n",
      "Name: volunteer, dtype: float64\n",
      "count    2435.000000\n",
      "mean        0.414374\n",
      "std         0.492715\n",
      "min         0.000000\n",
      "25%         0.000000\n",
      "50%         0.000000\n",
      "75%         1.000000\n",
      "max         1.000000\n",
      "Name: volunteer, dtype: float64\n",
      "count    2435.000000\n",
      "mean        0.054209\n",
      "std         0.226477\n",
      "min         0.000000\n",
      "25%         0.000000\n",
      "50%         0.000000\n",
      "75%         0.000000\n",
      "max         1.000000\n",
      "Name: honors, dtype: float64\n",
      "count    2435.000000\n",
      "mean        0.051335\n",
      "std         0.220725\n",
      "min         0.000000\n",
      "25%         0.000000\n",
      "50%         0.000000\n",
      "75%         0.000000\n",
      "max         1.000000\n",
      "Name: honors, dtype: float64\n",
      "count    2435.000000\n",
      "mean        7.856263\n",
      "std         5.079228\n",
      "min         1.000000\n",
      "25%         5.000000\n",
      "50%         6.000000\n",
      "75%         9.000000\n",
      "max        26.000000\n",
      "Name: yearsexp, dtype: float64\n",
      "count    2435.000000\n",
      "mean        7.829569\n",
      "std         5.010764\n",
      "min         1.000000\n",
      "25%         5.000000\n",
      "50%         6.000000\n",
      "75%         9.000000\n",
      "max        44.000000\n",
      "Name: yearsexp, dtype: float64\n"
     ]
    }
   ],
   "source": [
    "data = pd.io.stata.read_stata('data/us_job_market_discrimination.dta')\n",
    "print(data.columns)\n",
    "df_white = data.loc[data['race'] == 'w']\n",
    "df_black = data.loc[data['race'] == 'b']\n",
    "df_white_call = df_white.call\n",
    "df_black_call = df_black.call\n",
    "\n",
    "#print(type(df_black_call))\n",
    "#print(df_white_call)\n",
    "sum_W = np.sum(df_white_call)\n",
    "sum_B = np.sum(df_black_call)\n",
    "#print(sum_W)\n",
    "#print(sum_B)\n",
    "print(len(data))\n",
    "print(df_white.education.describe())\n",
    "print(df_black.education.describe())\n",
    "print(df_white.volunteer.describe())\n",
    "print(df_black.volunteer.describe())\n",
    "print(df_white.honors.describe())\n",
    "print(df_black.honors.describe())\n",
    "print(df_white.yearsexp.describe())\n",
    "print(df_black.yearsexp.describe())\n",
    "#print(avg_w_edu)\n",
    "#print(avg_b_edu)\n",
    "#, df_black.education, df_white.data.computerskills, df_black.data.computerskills]:\n",
    "    \n",
    "    #names = name\n",
    "    #print(f'black avg:{df_black[names]/len(df_black)}')"
   ]
  },
  {
   "cell_type": "code",
   "execution_count": 7,
   "metadata": {},
   "outputs": [
    {
     "name": "stdout",
     "output_type": "stream",
     "text": [
      "0.0    2278\n",
      "1.0     157\n",
      "Name: call, dtype: int64\n"
     ]
    }
   ],
   "source": [
    "print(df_black_call.value_counts())\n",
    "#mean = 157/(2278+157)\n",
    "#variance_a = (((1-mean)**2)*157)\n",
    "#print(f'variance a :{variance_a}')\n",
    "\n",
    "#print(f'std{(((1-mean)**2)*157)+(((0-mean)**2)*2278))/(2278+157)}')\n",
    "#print(mean)\n",
    "#print(df_white_call.value_counts())"
   ]
  },
  {
   "cell_type": "code",
   "execution_count": 8,
   "metadata": {},
   "outputs": [
    {
     "name": "stdout",
     "output_type": "stream",
     "text": [
      "196.0\n",
      "(196,)\n",
      "(2239,)\n",
      "(2239,)\n",
      "(196,)\n",
      "[1 1 1 ... 0 0 0]\n"
     ]
    }
   ],
   "source": [
    "import numpy as np\n",
    "w_call_proportion = np.sum(df_white['call'] > 0.0 )\n",
    "#print(w_call_proportion)\n",
    "b_call = np.sum(df_black['call'] > 0.0)\n",
    "#print(b_call)\n",
    "mean_call_back = (w_call_proportion + b_call)/2\n",
    "#print(mean_call_back)\n",
    "print(mean_call_back)\n",
    "np1 = np.ones(196, dtype = np.int8, order = 'F')\n",
    "np_1 = np.transpose(np1)\n",
    "print(np1.shape)\n",
    "\n",
    "avg_zeros = 2435-196\n",
    "np0 = np.zeros(avg_zeros, dtype = np.int8, order ='F')\n",
    "\n",
    "np_0 = np.transpose(np0)\n",
    "\n",
    "#avg_call = np.concatenate(np_1, np_0, axis = 0)\n",
    "#print(avg_call)\n",
    "print(np0.shape)\n",
    "print(np_0.shape)\n",
    "print(np_1.shape)\n",
    "avg_call = np.concatenate((np_1, np_0), axis = 0)\n",
    "print(avg_call)\n",
    "\n",
    "#def averaging(df, final_val):\n",
    " #   for i in df:\n",
    " #       if df.sum()< final_val and i == 0.0:\n",
    " #           df[i] += 1.0\n",
    " #       if df.sum()> final_val and i == 1.0:\n",
    " #           df[i] -= 0\n",
    "  #      if df.sum(df) == final_val:\n",
    "  #          print(df.sum())\n",
    "  #          print(df)\n",
    "        \n",
    "#for i in df_white_call: \n",
    " #   print(i)\n",
    "  #  if np.sum(df_white_call)< mean_call_back and i==0.0:\n",
    "   #     df_white_call[i] += 1 \n",
    "  #  if np.sum(df_white_call)> mean_call_back and i == 1.0:\n",
    "  #      df_white_call[i] -= 1\n",
    "  #  if np.sum(df_white_call) == mean_call_back:\n",
    "  #      print(df_white_call)\n",
    "  #      break\n",
    "        \n",
    "\n",
    "        #return df_white_call\n",
    "        #break\n",
    "\n",
    "#averaging(df = df_white_call, final_val = mean_call_back)\n"
   ]
  },
  {
   "cell_type": "code",
   "execution_count": 9,
   "metadata": {},
   "outputs": [
    {
     "name": "stdout",
     "output_type": "stream",
     "text": [
      "w    2435\n",
      "b    2435\n",
      "Name: race, dtype: int64\n",
      "0.0    2200\n",
      "1.0     235\n",
      "Name: call, dtype: int64\n",
      "0.0    2278\n",
      "1.0     157\n",
      "Name: call, dtype: int64\n"
     ]
    }
   ],
   "source": [
    "# number of callbacks for black-sounding names\n",
    "sum(data[data.race=='w'].call)\n",
    "print(data.race.value_counts())\n",
    "print(df_white.call.value_counts())\n",
    "print(df_black.call.value_counts())"
   ]
  },
  {
   "cell_type": "code",
   "execution_count": 10,
   "metadata": {},
   "outputs": [
    {
     "name": "stdout",
     "output_type": "stream",
     "text": [
      "[1.17919075 0.98412698 1.04210526 ... 1.09625668 0.99459459 1.08333333]\n",
      "0\n",
      " the p value for the call back difference between Caucasian and African American is \"0.0\n"
     ]
    }
   ],
   "source": [
    "\n",
    "\n",
    "#def race_call_pvalue(black_cb, white_cb)\n",
    "draw_proportion = np.empty(10000)\n",
    "for i in range(10000):\n",
    "   bsample =  np.random.choice(avg_call, 2435)\n",
    "   black_bs_sample = np.sum(bsample)\n",
    "   wsample = np.random.choice(avg_call, 2435)\n",
    "   white_bs_sample = np.sum(wsample)\n",
    "   draw_proportion[i] = black_bs_sample/ white_bs_sample\n",
    "true_outcome = sum_B/ sum_W\n",
    "print(draw_proportion)\n",
    "test_sum = np.sum(draw_proportion< true_outcome)\n",
    "print(test_sum)\n",
    "p_value = test_sum/10000\n",
    "print(f' the p value for the call back difference between Caucasian and African American is \"{p_value}')"
   ]
  },
  {
   "cell_type": "code",
   "execution_count": 11,
   "metadata": {},
   "outputs": [
    {
     "name": "stdout",
     "output_type": "stream",
     "text": [
      "Ttest_indResult(statistic=4.114705290861751, pvalue=3.940802103128886e-05)\n"
     ]
    }
   ],
   "source": [
    "# standard deviation\n",
    "from statsmodels.stats.weightstats import ztest\n",
    "from scipy.stats import ttest_ind\n",
    "t_test = ttest_ind(df_white_call, df_black_call )\n",
    "print(t_test)"
   ]
  },
  {
   "cell_type": "code",
   "execution_count": 12,
   "metadata": {},
   "outputs": [
    {
     "data": {
      "text/html": [
       "<div>\n",
       "<style scoped>\n",
       "    .dataframe tbody tr th:only-of-type {\n",
       "        vertical-align: middle;\n",
       "    }\n",
       "\n",
       "    .dataframe tbody tr th {\n",
       "        vertical-align: top;\n",
       "    }\n",
       "\n",
       "    .dataframe thead th {\n",
       "        text-align: right;\n",
       "    }\n",
       "</style>\n",
       "<table border=\"1\" class=\"dataframe\">\n",
       "  <thead>\n",
       "    <tr style=\"text-align: right;\">\n",
       "      <th></th>\n",
       "      <th>id</th>\n",
       "      <th>ad</th>\n",
       "      <th>education</th>\n",
       "      <th>ofjobs</th>\n",
       "      <th>yearsexp</th>\n",
       "      <th>honors</th>\n",
       "      <th>volunteer</th>\n",
       "      <th>military</th>\n",
       "      <th>empholes</th>\n",
       "      <th>occupspecific</th>\n",
       "      <th>...</th>\n",
       "      <th>compreq</th>\n",
       "      <th>orgreq</th>\n",
       "      <th>manuf</th>\n",
       "      <th>transcom</th>\n",
       "      <th>bankreal</th>\n",
       "      <th>trade</th>\n",
       "      <th>busservice</th>\n",
       "      <th>othservice</th>\n",
       "      <th>missind</th>\n",
       "      <th>ownership</th>\n",
       "    </tr>\n",
       "  </thead>\n",
       "  <tbody>\n",
       "    <tr>\n",
       "      <th>0</th>\n",
       "      <td>b</td>\n",
       "      <td>1</td>\n",
       "      <td>4</td>\n",
       "      <td>2</td>\n",
       "      <td>6</td>\n",
       "      <td>0</td>\n",
       "      <td>0</td>\n",
       "      <td>0</td>\n",
       "      <td>1</td>\n",
       "      <td>17</td>\n",
       "      <td>...</td>\n",
       "      <td>1.0</td>\n",
       "      <td>0.0</td>\n",
       "      <td>1.0</td>\n",
       "      <td>0.0</td>\n",
       "      <td>0.0</td>\n",
       "      <td>0.0</td>\n",
       "      <td>0.0</td>\n",
       "      <td>0.0</td>\n",
       "      <td>0.0</td>\n",
       "      <td></td>\n",
       "    </tr>\n",
       "    <tr>\n",
       "      <th>1</th>\n",
       "      <td>b</td>\n",
       "      <td>1</td>\n",
       "      <td>3</td>\n",
       "      <td>3</td>\n",
       "      <td>6</td>\n",
       "      <td>0</td>\n",
       "      <td>1</td>\n",
       "      <td>1</td>\n",
       "      <td>0</td>\n",
       "      <td>316</td>\n",
       "      <td>...</td>\n",
       "      <td>1.0</td>\n",
       "      <td>0.0</td>\n",
       "      <td>1.0</td>\n",
       "      <td>0.0</td>\n",
       "      <td>0.0</td>\n",
       "      <td>0.0</td>\n",
       "      <td>0.0</td>\n",
       "      <td>0.0</td>\n",
       "      <td>0.0</td>\n",
       "      <td></td>\n",
       "    </tr>\n",
       "    <tr>\n",
       "      <th>2</th>\n",
       "      <td>b</td>\n",
       "      <td>1</td>\n",
       "      <td>4</td>\n",
       "      <td>1</td>\n",
       "      <td>6</td>\n",
       "      <td>0</td>\n",
       "      <td>0</td>\n",
       "      <td>0</td>\n",
       "      <td>0</td>\n",
       "      <td>19</td>\n",
       "      <td>...</td>\n",
       "      <td>1.0</td>\n",
       "      <td>0.0</td>\n",
       "      <td>1.0</td>\n",
       "      <td>0.0</td>\n",
       "      <td>0.0</td>\n",
       "      <td>0.0</td>\n",
       "      <td>0.0</td>\n",
       "      <td>0.0</td>\n",
       "      <td>0.0</td>\n",
       "      <td></td>\n",
       "    </tr>\n",
       "    <tr>\n",
       "      <th>3</th>\n",
       "      <td>b</td>\n",
       "      <td>1</td>\n",
       "      <td>3</td>\n",
       "      <td>4</td>\n",
       "      <td>6</td>\n",
       "      <td>0</td>\n",
       "      <td>1</td>\n",
       "      <td>0</td>\n",
       "      <td>1</td>\n",
       "      <td>313</td>\n",
       "      <td>...</td>\n",
       "      <td>1.0</td>\n",
       "      <td>0.0</td>\n",
       "      <td>1.0</td>\n",
       "      <td>0.0</td>\n",
       "      <td>0.0</td>\n",
       "      <td>0.0</td>\n",
       "      <td>0.0</td>\n",
       "      <td>0.0</td>\n",
       "      <td>0.0</td>\n",
       "      <td></td>\n",
       "    </tr>\n",
       "    <tr>\n",
       "      <th>4</th>\n",
       "      <td>b</td>\n",
       "      <td>1</td>\n",
       "      <td>3</td>\n",
       "      <td>3</td>\n",
       "      <td>22</td>\n",
       "      <td>0</td>\n",
       "      <td>0</td>\n",
       "      <td>0</td>\n",
       "      <td>0</td>\n",
       "      <td>313</td>\n",
       "      <td>...</td>\n",
       "      <td>1.0</td>\n",
       "      <td>1.0</td>\n",
       "      <td>0.0</td>\n",
       "      <td>0.0</td>\n",
       "      <td>0.0</td>\n",
       "      <td>0.0</td>\n",
       "      <td>0.0</td>\n",
       "      <td>1.0</td>\n",
       "      <td>0.0</td>\n",
       "      <td>Nonprofit</td>\n",
       "    </tr>\n",
       "  </tbody>\n",
       "</table>\n",
       "<p>5 rows × 65 columns</p>\n",
       "</div>"
      ],
      "text/plain": [
       "  id ad  education  ofjobs  yearsexp  honors  volunteer  military  empholes  \\\n",
       "0  b  1          4       2         6       0          0         0         1   \n",
       "1  b  1          3       3         6       0          1         1         0   \n",
       "2  b  1          4       1         6       0          0         0         0   \n",
       "3  b  1          3       4         6       0          1         0         1   \n",
       "4  b  1          3       3        22       0          0         0         0   \n",
       "\n",
       "   occupspecific  ...  compreq  orgreq  manuf  transcom  bankreal trade  \\\n",
       "0             17  ...      1.0     0.0    1.0       0.0       0.0   0.0   \n",
       "1            316  ...      1.0     0.0    1.0       0.0       0.0   0.0   \n",
       "2             19  ...      1.0     0.0    1.0       0.0       0.0   0.0   \n",
       "3            313  ...      1.0     0.0    1.0       0.0       0.0   0.0   \n",
       "4            313  ...      1.0     1.0    0.0       0.0       0.0   0.0   \n",
       "\n",
       "  busservice othservice  missind  ownership  \n",
       "0        0.0        0.0      0.0             \n",
       "1        0.0        0.0      0.0             \n",
       "2        0.0        0.0      0.0             \n",
       "3        0.0        0.0      0.0             \n",
       "4        0.0        1.0      0.0  Nonprofit  \n",
       "\n",
       "[5 rows x 65 columns]"
      ]
     },
     "execution_count": 12,
     "metadata": {},
     "output_type": "execute_result"
    }
   ],
   "source": [
    "data.head()"
   ]
  },
  {
   "cell_type": "markdown",
   "metadata": {
    "collapsed": true
   },
   "source": [
    "<div class=\"span5 alert alert-success\">\n",
    "<p>Your answers to Q1 and Q2 here</p>\n",
    "</div>"
   ]
  },
  {
   "cell_type": "code",
   "execution_count": 13,
   "metadata": {},
   "outputs": [],
   "source": [
    "w = data[data.race=='w']\n",
    "b = data[data.race=='b']"
   ]
  },
  {
   "cell_type": "code",
   "execution_count": 14,
   "metadata": {},
   "outputs": [],
   "source": [
    "# Your solution to Q3 here\n",
    "import numpy as np\n",
    "#p_hat = (np.sum(df.white.call) + np.sum(df.black.call)) / SUM_W + SUM_B\n",
    "#MOE =  1.96 * np.sqrt(phat  (1 - phat) * ((1 / SUM_W) + (1 / SUM_B)))"
   ]
  },
  {
   "cell_type": "markdown",
   "metadata": {},
   "source": [
    "<div class=\"span5 alert alert-success\">\n",
    "<p> Your answers to Q4 and Q5 here </p>\n",
    "</div>"
   ]
  },
  {
   "cell_type": "code",
   "execution_count": 26,
   "metadata": {},
   "outputs": [],
   "source": [
    "import numpy as np\n",
    "p_hat = (np.sum(w.call) + np.sum(b.call)) /  (len(df_white) + len(df_black))\n",
    "x = (p_hat *(1 - p_hat)) * ((1 / len(df_white.race)) + (1 / len(df_black.race)))\n",
    "MOE = 1.96 * np.sqrt(x)"
   ]
  },
  {
   "cell_type": "code",
   "execution_count": 41,
   "metadata": {
    "scrolled": true
   },
   "outputs": [
    {
     "name": "stdout",
     "output_type": "stream",
     "text": [
      "Margin of Error : 0.015281912310894095\n",
      "Standard Deviation: 0.007796894036170457\n",
      "p_hat(total calls/total applications) : 0.08049281314168377\n",
      " confidence interval for total population:0.06489902506934286 - 0.09608660121402468\n",
      "rate of call backs for black people 0.06447638603696099\n",
      "rate of call backs for white people 0.09650924024640657\n"
     ]
    }
   ],
   "source": [
    "print(f'Margin of Error : {MOE}')\n",
    "std_dv =  np.sqrt(x)\n",
    "print(f'Standard Deviation: {np.sqrt(x)}')\n",
    "print(f'p_hat(total calls/total applications) : {p_hat}')\n",
    "print(f' confidence interval for total population:{p_hat - (2*std_dv)} - {p_hat + (2*std_dv)}')\n",
    "p_black = np.sum(b.call)/len(df_black)\n",
    "p_white = np.sum(w.call)/len(df_white)\n",
    "print(f'rate of call backs for black people {p_black}')\n",
    "print(f'rate of call backs for white people {p_white}')"
   ]
  },
  {
   "cell_type": "markdown",
   "metadata": {},
   "source": [
    "Here we can see that the rate of call back for black people and white people are both outside of the confidence interval. Both are on opposite ends of the extreme.  This reaffirms that there is a significant difference between the call back rate for white people and black people. It also validates our p-value of: 3.940802103128886e-05"
   ]
  },
  {
   "cell_type": "markdown",
   "metadata": {},
   "source": [
    "From the results one can conclude that the population responsible for hiring maded decisions biased by the sound of applicant names. Further the bias was such that people with black first names are at a disadvantage. A couple of missing pieces of information include: we do not know if this test was performed regionally or all over the United States and it is possible racist sentiment differs accofding to locatoin. We also don't know which jobs the applicants were applying for and therefore can not conclude if this bias exists in all industries. "
   ]
  },
  {
   "cell_type": "code",
   "execution_count": null,
   "metadata": {},
   "outputs": [],
   "source": []
  }
 ],
 "metadata": {
  "kernelspec": {
   "display_name": "Python 3",
   "language": "python",
   "name": "python3"
  },
  "language_info": {
   "codemirror_mode": {
    "name": "ipython",
    "version": 3
   },
   "file_extension": ".py",
   "mimetype": "text/x-python",
   "name": "python",
   "nbconvert_exporter": "python",
   "pygments_lexer": "ipython3",
   "version": "3.7.3"
  }
 },
 "nbformat": 4,
 "nbformat_minor": 1
}
